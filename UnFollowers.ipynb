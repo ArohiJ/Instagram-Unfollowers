{
 "cells": [
  {
   "cell_type": "code",
   "execution_count": 1,
   "metadata": {},
   "outputs": [],
   "source": [
    "import cv2\n",
    "from instabot import Bot\n",
    "from scipy import ndimage\n",
    "from tkinter import *\n",
    "from PIL import ImageTk, Image\n",
    "import tkinter as tk"
   ]
  },
  {
   "cell_type": "code",
   "execution_count": 2,
   "metadata": {},
   "outputs": [],
   "source": [
    "def cal(name, pas):\n",
    "    window.destroy()\n",
    "    bot=Bot()\n",
    "    bot.login(username=name, password=pas)\n",
    "    my_followers = bot.get_user_followers(name)\n",
    "    my_following = bot.get_user_following(name)\n",
    "    rude_ppl=[]\n",
    "    for i in my_following:\n",
    "        if i not in my_followers:\n",
    "            rude_ppl.append(bot.get_username_from_user_id(i))\n",
    "    print(\"People who dont follow you back - \")\n",
    "    print(rude_ppl)\n",
    "    fans=[]\n",
    "    for i in my_followers:\n",
    "        if i not in my_following:\n",
    "            fans.append(bot.get_username_from_user_id(i))\n",
    "    print(\"\")\n",
    "    print(\"People you dont follow back - \")\n",
    "    print(fans)\n",
    "    bot.logout()    "
   ]
  },
  {
   "cell_type": "code",
   "execution_count": 4,
   "metadata": {},
   "outputs": [],
   "source": [
    "window=Tk()\n",
    "\n",
    "head=Label(window, text=\"Welcome to Instagram UnFollowers.\", fg='black', font=(\"Helvetica\", 22, \"bold\"))\n",
    "head.place(x=200, y=45)\n",
    "head.configure(background='cadet blue')\n",
    "\n",
    "txt=Label(window, text=\"Enter the following details:\", fg='black', font=(\"Helvetica\", 18))\n",
    "txt.place(x=320, y=100)\n",
    "txt.configure(background='cadet blue')\n",
    "    \n",
    "txt1=Label(window, text=\"Enter the Username:\", fg='black', font=(\"Helvetica\", 18))\n",
    "txt1.place(x=100, y=200)\n",
    "txt1.configure(background='cadet blue')\n",
    "    \n",
    "name_val=StringVar    \n",
    "name=Entry(window, textvariable=name_val, width=50)\n",
    "name.place(x=420, y=205)\n",
    "\n",
    "txt2=Label(window, text=\"Enter the Password:\", fg='black', font=(\"Helvetica\", 18))\n",
    "txt2.place(x=100, y=250)\n",
    "txt2.configure(background='cadet blue')\n",
    "    \n",
    "pas_val=StringVar    \n",
    "pas=Entry(window,show=\"*\", textvariable=pas_val, width=50)\n",
    "pas.place(x=420, y=255)\n",
    "    \n",
    "def on_button():\n",
    "    name_val = name.get()\n",
    "    pas_val = pas.get()\n",
    "    cal(name_val, pas_val)\n",
    "        \n",
    "btn=Button(window, text=\"Analyse\", fg='black', command=on_button)\n",
    "btn.place(x=300, y=350)\n",
    "btn.config(height = 5, width = 50, background='azure')\n",
    "\n",
    "window.title('Instagram Unfollowers')\n",
    "window.configure(background='cadet blue')\n",
    "window.geometry(\"900x500+100+50\")\n",
    "window.mainloop()"
   ]
  },
  {
   "cell_type": "code",
   "execution_count": null,
   "metadata": {},
   "outputs": [],
   "source": []
  }
 ],
 "metadata": {
  "kernelspec": {
   "display_name": "Python 3",
   "language": "python",
   "name": "python3"
  },
  "language_info": {
   "codemirror_mode": {
    "name": "ipython",
    "version": 3
   },
   "file_extension": ".py",
   "mimetype": "text/x-python",
   "name": "python",
   "nbconvert_exporter": "python",
   "pygments_lexer": "ipython3",
   "version": "3.8.5"
  }
 },
 "nbformat": 4,
 "nbformat_minor": 4
}
