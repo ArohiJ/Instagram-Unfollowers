{
 "cells": [
  {
   "cell_type": "code",
   "execution_count": 3,
   "metadata": {},
   "outputs": [],
   "source": [
    "import cv2\n",
    "from instabot import Bot\n",
    "from scipy import ndimage\n",
    "from tkinter import *\n",
    "from PIL import ImageTk, Image\n",
    "import tkinter as tk"
   ]
  },
  {
   "cell_type": "code",
   "execution_count": 4,
   "metadata": {},
   "outputs": [],
   "source": [
    "def cal(name, pas):\n",
    "    window.destroy()\n",
    "    bot=Bot()\n",
    "    bot.login(username=name, password=pas)\n",
    "    my_followers = bot.get_user_followers(name)\n",
    "    my_following = bot.get_user_following(name)\n",
    "    rude_ppl=[]\n",
    "    for i in my_following:\n",
    "        if i not in my_followers:\n",
    "            rude_ppl.append(bot.get_username_from_user_id(i))\n",
    "    print(\"People who dont follow you back - \")\n",
    "    print(rude_ppl)\n",
    "    fans=[]\n",
    "    for i in my_followers:\n",
    "        if i not in my_following:\n",
    "            fans.append(bot.get_username_from_user_id(i))\n",
    "    print(\"\")\n",
    "    print(\"People you dont follow back - \")\n",
    "    print(fans)\n",
    "    bot.logout()    "
   ]
  },
  {
   "cell_type": "code",
   "execution_count": 5,
   "metadata": {},
   "outputs": [
    {
     "name": "stderr",
     "output_type": "stream",
     "text": [
      "2021-05-23 00:02:59,814 - INFO - Instabot version: 0.117.0 Started\n",
      "2021-05-23 00:02:59,822 - INFO - Recovery from C:\\Users\\Arohi Jain\\Desktop\\Projects\\Instagram Followers/config/arohi._.jain_uuid_and_cookie.json: COOKIE True - UUIDs True - TIMING, DEVICE and ...\n",
      "- user-agent=Instagram 117.0.0.28.123 Android (28/9.0; 420dpi; 1080x1920; OnePlus; ONEPLUS A3003; OnePlus3; qcom; en_US; 180322800)\n",
      "- phone_id=89fd254d-59f5-4e0d-8c06-5242dad344ff\n",
      "- uuid=0e6f6a81-03d6-4ed8-be51-64e8eb1519f8\n",
      "- client_session_id=82247efa-4216-4ae7-99e0-c2c13abcff6f\n",
      "- device_id=android-f0379971de84d796\n",
      "2021-05-23 00:02:59,822 - INFO - LOGIN FLOW! Just logged-in: False\n",
      "2021-05-23 00:03:03,819 - WARNING - ('Connection aborted.', ConnectionResetError(10054, 'An existing connection was forcibly closed by the remote host', None, 10054, None))\n",
      "2021-05-23 00:03:05,143 - WARNING - ('Connection aborted.', ConnectionResetError(10054, 'An existing connection was forcibly closed by the remote host', None, 10054, None))\n",
      "2021-05-23 00:03:07,306 - WARNING - ('Connection aborted.', ConnectionResetError(10054, 'An existing connection was forcibly closed by the remote host', None, 10054, None))\n",
      "2021-05-23 00:03:09,052 - INFO - Login flow failed, the cookie is broken. Relogin again.\n",
      "2021-05-23 00:03:09,052 - INFO - Recovery from C:\\Users\\Arohi Jain\\Desktop\\Projects\\Instagram Followers/config/arohi._.jain_uuid_and_cookie.json: COOKIE True - UUIDs True - TIMING, DEVICE and ...\n",
      "- user-agent=Instagram 117.0.0.28.123 Android (28/9.0; 420dpi; 1080x1920; OnePlus; ONEPLUS A3003; OnePlus3; qcom; en_US; 180322800)\n",
      "- phone_id=89fd254d-59f5-4e0d-8c06-5242dad344ff\n",
      "- uuid=0e6f6a81-03d6-4ed8-be51-64e8eb1519f8\n",
      "- client_session_id=788d7781-8fe8-4c7e-9ad3-ea8233a14f49\n",
      "- device_id=android-f0379971de84d796\n",
      "2021-05-23 00:03:09,068 - INFO - Not yet logged in starting: PRE-LOGIN FLOW!\n",
      "2021-05-23 00:03:09,558 - ERROR - Request returns 403 error!\n",
      "2021-05-23 00:03:09,660 - WARNING - ('Connection aborted.', ConnectionResetError(10054, 'An existing connection was forcibly closed by the remote host', None, 10054, None))\n",
      "2021-05-23 00:03:09,729 - WARNING - ('Connection aborted.', ConnectionResetError(10054, 'An existing connection was forcibly closed by the remote host', None, 10054, None))\n",
      "2021-05-23 00:03:11,923 - INFO - Logged-in successfully as 'arohi._.jain'!\n",
      "2021-05-23 00:03:11,923 - INFO - LOGIN FLOW! Just logged-in: True\n",
      "2021-05-23 00:03:12,586 - WARNING - ('Connection aborted.', ConnectionResetError(10054, 'An existing connection was forcibly closed by the remote host', None, 10054, None))\n",
      "2021-05-23 00:03:12,778 - WARNING - ('Connection aborted.', ConnectionResetError(10054, 'An existing connection was forcibly closed by the remote host', None, 10054, None))\n",
      "2021-05-23 00:03:24,672 - WARNING - ('Connection aborted.', ConnectionResetError(10054, 'An existing connection was forcibly closed by the remote host', None, 10054, None))\n",
      "2021-05-23 00:03:26,665 - WARNING - ('Connection aborted.', ConnectionResetError(10054, 'An existing connection was forcibly closed by the remote host', None, 10054, None))\n",
      "2021-05-23 00:03:31,052 - WARNING - ('Connection aborted.', ConnectionResetError(10054, 'An existing connection was forcibly closed by the remote host', None, 10054, None))\n",
      "Getting followers of 3550890925:   0%|▏                                                | 1/232 [00:01<03:53,  1.01s/it]2021-05-23 00:03:35,113 - WARNING - ('Connection aborted.', ConnectionResetError(10054, 'An existing connection was forcibly closed by the remote host', None, 10054, None))\n",
      "Getting followers of 3550890925: 382it [00:01, 329.42it/s]                                                             \n",
      "Getting followings of 3550890925: 100%|█████████████████████████████████████████████| 223/223 [00:00<00:00, 372.01it/s]\n",
      "2021-05-23 00:03:38,280 - WARNING - ('Connection aborted.', ConnectionResetError(10054, 'An existing connection was forcibly closed by the remote host', None, 10054, None))\n",
      "2021-05-23 00:03:39,126 - WARNING - ('Connection aborted.', ConnectionResetError(10054, 'An existing connection was forcibly closed by the remote host', None, 10054, None))\n",
      "2021-05-23 00:03:39,758 - WARNING - ('Connection aborted.', ConnectionResetError(10054, 'An existing connection was forcibly closed by the remote host', None, 10054, None))\n",
      "2021-05-23 00:03:43,626 - WARNING - ('Connection aborted.', ConnectionResetError(10054, 'An existing connection was forcibly closed by the remote host', None, 10054, None))\n",
      "2021-05-23 00:03:45,430 - WARNING - ('Connection aborted.', ConnectionResetError(10054, 'An existing connection was forcibly closed by the remote host', None, 10054, None))\n",
      "2021-05-23 00:03:48,885 - WARNING - ('Connection aborted.', ConnectionResetError(10054, 'An existing connection was forcibly closed by the remote host', None, 10054, None))\n",
      "2021-05-23 00:03:52,166 - WARNING - ('Connection aborted.', ConnectionResetError(10054, 'An existing connection was forcibly closed by the remote host', None, 10054, None))\n",
      "2021-05-23 00:03:53,193 - WARNING - ('Connection aborted.', ConnectionResetError(10054, 'An existing connection was forcibly closed by the remote host', None, 10054, None))\n",
      "2021-05-23 00:03:54,472 - WARNING - ('Connection aborted.', ConnectionResetError(10054, 'An existing connection was forcibly closed by the remote host', None, 10054, None))\n",
      "2021-05-23 00:03:56,302 - WARNING - ('Connection aborted.', ConnectionResetError(10054, 'An existing connection was forcibly closed by the remote host', None, 10054, None))\n",
      "2021-05-23 00:03:58,610 - WARNING - ('Connection aborted.', ConnectionResetError(10054, 'An existing connection was forcibly closed by the remote host', None, 10054, None))\n",
      "2021-05-23 00:03:58,712 - WARNING - ('Connection aborted.', ConnectionResetError(10054, 'An existing connection was forcibly closed by the remote host', None, 10054, None))\n"
     ]
    },
    {
     "name": "stdout",
     "output_type": "stream",
     "text": [
      "People who dont follow you back - \n",
      "['ayushmannk', 'priyankachopra', 'priyankachopra', 'aliaabhatt', 'aliaabhatt', 'tchalamet', 'tchalamet', 'nhce.official', 'yashvimetha', 'lemonsodagingerpopart', 'pranavswaroop1', 'pranavswaroop1', 'naturephotography1324', 'yogesh_mi007', 'yogesh_mi007', 'varsha.yes.but', 'dawood_damda', 'd_s_confessions', 'krishi_mehta21_', 'keerthana1_r', 'amulyaa_', 'amulyaa_', 'nikithaanand_', 'a.a.d.y.a_', 'kyogeshnayaka790', 'neeksh_kapse', 'shivanzzi_xo', 'shivanzzi_xo', 'jeevithaanumuthu', 'jeevithaanumuthu', 'dipikamanjunath', 'josh_0825', 'josh_0825', 'ishu_beeshmar_029', '13.1_miler', 'bhuveesha_jain', 'bhuveesha_jain', 'rinky_1681', 'love_for_travel_prateek', 'aditi__v', 'aditi__v', 'aditi__v', 'pallavi.jain1111', 'wake_up._.sid']\n"
     ]
    },
    {
     "name": "stderr",
     "output_type": "stream",
     "text": [
      "2021-05-23 00:04:06,589 - WARNING - ('Connection aborted.', ConnectionResetError(10054, 'An existing connection was forcibly closed by the remote host', None, 10054, None))\n",
      "2021-05-23 00:04:14,391 - WARNING - ('Connection aborted.', ConnectionResetError(10054, 'An existing connection was forcibly closed by the remote host', None, 10054, None))\n",
      "2021-05-23 00:04:14,391 - INFO - Bot stopped. Worked: 0:01:14.580660\n",
      "2021-05-23 00:04:14,391 - INFO - Total requests: 103\n"
     ]
    },
    {
     "name": "stdout",
     "output_type": "stream",
     "text": [
      "\n",
      "People you dont follow back - \n",
      "['_roshan._.rk._.vashista', 'paavansaireddy', 'swarna_gowri_s', 'naman_bhandari0603', 'bohratanu.__515', 'bohratanu.__515', 'chitranshrm', 'tejas.kumar69', 'the_grover_sahab', '_._aditi.11_._', 'poushali_pal22', '____tanmaya___', '_roshan._.rk._.vashista', 'paavansaireddy']\n"
     ]
    }
   ],
   "source": [
    "window=Tk()\n",
    "\n",
    "head=Label(window, text=\"Welcome to Instagram UnFollowers.\", fg='black', font=(\"Helvetica\", 22, \"bold\"))\n",
    "head.place(x=200, y=45)\n",
    "head.configure(background='cadet blue')\n",
    "\n",
    "txt=Label(window, text=\"Enter the following details:\", fg='black', font=(\"Helvetica\", 18))\n",
    "txt.place(x=320, y=100)\n",
    "txt.configure(background='cadet blue')\n",
    "    \n",
    "txt1=Label(window, text=\"Enter the Username:\", fg='black', font=(\"Helvetica\", 18))\n",
    "txt1.place(x=100, y=200)\n",
    "txt1.configure(background='cadet blue')\n",
    "    \n",
    "name_val=StringVar    \n",
    "name=Entry(window, textvariable=name_val, width=50)\n",
    "name.place(x=420, y=205)\n",
    "\n",
    "txt2=Label(window, text=\"Enter the Password:\", fg='black', font=(\"Helvetica\", 18))\n",
    "txt2.place(x=100, y=250)\n",
    "txt2.configure(background='cadet blue')\n",
    "    \n",
    "pas_val=StringVar    \n",
    "pas=Entry(window,show=\"*\", textvariable=pas_val, width=50)\n",
    "pas.place(x=420, y=255)\n",
    "    \n",
    "def on_button():\n",
    "    name_val = name.get()\n",
    "    pas_val = pas.get()\n",
    "    cal(name_val, pas_val)\n",
    "        \n",
    "btn=Button(window, text=\"Analyse\", fg='black', command=on_button)\n",
    "btn.place(x=300, y=350)\n",
    "btn.config(height = 5, width = 50, background='azure')\n",
    "\n",
    "window.title('Instagram Unfollowers')\n",
    "window.configure(background='cadet blue')\n",
    "window.geometry(\"900x500+100+50\")\n",
    "window.mainloop()"
   ]
  },
  {
   "cell_type": "code",
   "execution_count": null,
   "metadata": {},
   "outputs": [],
   "source": []
  }
 ],
 "metadata": {
  "kernelspec": {
   "display_name": "Python 3",
   "language": "python",
   "name": "python3"
  },
  "language_info": {
   "codemirror_mode": {
    "name": "ipython",
    "version": 3
   },
   "file_extension": ".py",
   "mimetype": "text/x-python",
   "name": "python",
   "nbconvert_exporter": "python",
   "pygments_lexer": "ipython3",
   "version": "3.8.5"
  }
 },
 "nbformat": 4,
 "nbformat_minor": 4
}
